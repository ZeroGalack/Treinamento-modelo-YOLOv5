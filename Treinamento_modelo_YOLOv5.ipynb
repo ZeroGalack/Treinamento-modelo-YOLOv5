{
  "nbformat": 4,
  "nbformat_minor": 0,
  "metadata": {
    "colab": {
      "provenance": [],
      "gpuType": "T4",
      "authorship_tag": "ABX9TyNyadnnTLD0DjZZG1Jac5n6",
      "include_colab_link": true
    },
    "kernelspec": {
      "name": "python3",
      "display_name": "Python 3"
    },
    "language_info": {
      "name": "python"
    },
    "accelerator": "GPU",
    "gpuClass": "standard",
    "widgets": {
      "application/vnd.jupyter.widget-state+json": {
        "9624671b905d4dfe8fa868a49738c06b": {
          "model_module": "@jupyter-widgets/controls",
          "model_name": "HBoxModel",
          "model_module_version": "1.5.0",
          "state": {
            "_dom_classes": [],
            "_model_module": "@jupyter-widgets/controls",
            "_model_module_version": "1.5.0",
            "_model_name": "HBoxModel",
            "_view_count": null,
            "_view_module": "@jupyter-widgets/controls",
            "_view_module_version": "1.5.0",
            "_view_name": "HBoxView",
            "box_style": "",
            "children": [
              "IPY_MODEL_ad97bc14c1394c2ba3a16c170de1acbd",
              "IPY_MODEL_ed3ecaee3e8d4ba3a5baf36a1b83a029",
              "IPY_MODEL_179d4b9f06eb45b8bf504203f0698bfa"
            ],
            "layout": "IPY_MODEL_043ccea3b25d4ab2a682b3a84326c65b"
          }
        },
        "ad97bc14c1394c2ba3a16c170de1acbd": {
          "model_module": "@jupyter-widgets/controls",
          "model_name": "HTMLModel",
          "model_module_version": "1.5.0",
          "state": {
            "_dom_classes": [],
            "_model_module": "@jupyter-widgets/controls",
            "_model_module_version": "1.5.0",
            "_model_name": "HTMLModel",
            "_view_count": null,
            "_view_module": "@jupyter-widgets/controls",
            "_view_module_version": "1.5.0",
            "_view_name": "HTMLView",
            "description": "",
            "description_tooltip": null,
            "layout": "IPY_MODEL_ee49d8d6a05442c3bc9440015663ba00",
            "placeholder": "​",
            "style": "IPY_MODEL_8a5d5eeb63c54925b0920c107c92dbd5",
            "value": "100%"
          }
        },
        "ed3ecaee3e8d4ba3a5baf36a1b83a029": {
          "model_module": "@jupyter-widgets/controls",
          "model_name": "FloatProgressModel",
          "model_module_version": "1.5.0",
          "state": {
            "_dom_classes": [],
            "_model_module": "@jupyter-widgets/controls",
            "_model_module_version": "1.5.0",
            "_model_name": "FloatProgressModel",
            "_view_count": null,
            "_view_module": "@jupyter-widgets/controls",
            "_view_module_version": "1.5.0",
            "_view_name": "ProgressView",
            "bar_style": "success",
            "description": "",
            "description_tooltip": null,
            "layout": "IPY_MODEL_9545d663557f492b80fa387183d110a5",
            "max": 302,
            "min": 0,
            "orientation": "horizontal",
            "style": "IPY_MODEL_23b7d5127eb846919f5fe732385430f0",
            "value": 302
          }
        },
        "179d4b9f06eb45b8bf504203f0698bfa": {
          "model_module": "@jupyter-widgets/controls",
          "model_name": "HTMLModel",
          "model_module_version": "1.5.0",
          "state": {
            "_dom_classes": [],
            "_model_module": "@jupyter-widgets/controls",
            "_model_module_version": "1.5.0",
            "_model_name": "HTMLModel",
            "_view_count": null,
            "_view_module": "@jupyter-widgets/controls",
            "_view_module_version": "1.5.0",
            "_view_name": "HTMLView",
            "description": "",
            "description_tooltip": null,
            "layout": "IPY_MODEL_583f8b1e064849239cf44e91ba665d22",
            "placeholder": "​",
            "style": "IPY_MODEL_d34651fdd25d42838eb2b6b2650dde43",
            "value": " 302/302 [01:16&lt;00:00,  4.82it/s]"
          }
        },
        "043ccea3b25d4ab2a682b3a84326c65b": {
          "model_module": "@jupyter-widgets/base",
          "model_name": "LayoutModel",
          "model_module_version": "1.2.0",
          "state": {
            "_model_module": "@jupyter-widgets/base",
            "_model_module_version": "1.2.0",
            "_model_name": "LayoutModel",
            "_view_count": null,
            "_view_module": "@jupyter-widgets/base",
            "_view_module_version": "1.2.0",
            "_view_name": "LayoutView",
            "align_content": null,
            "align_items": null,
            "align_self": null,
            "border": null,
            "bottom": null,
            "display": null,
            "flex": null,
            "flex_flow": null,
            "grid_area": null,
            "grid_auto_columns": null,
            "grid_auto_flow": null,
            "grid_auto_rows": null,
            "grid_column": null,
            "grid_gap": null,
            "grid_row": null,
            "grid_template_areas": null,
            "grid_template_columns": null,
            "grid_template_rows": null,
            "height": null,
            "justify_content": null,
            "justify_items": null,
            "left": null,
            "margin": null,
            "max_height": null,
            "max_width": null,
            "min_height": null,
            "min_width": null,
            "object_fit": null,
            "object_position": null,
            "order": null,
            "overflow": null,
            "overflow_x": null,
            "overflow_y": null,
            "padding": null,
            "right": null,
            "top": null,
            "visibility": null,
            "width": null
          }
        },
        "ee49d8d6a05442c3bc9440015663ba00": {
          "model_module": "@jupyter-widgets/base",
          "model_name": "LayoutModel",
          "model_module_version": "1.2.0",
          "state": {
            "_model_module": "@jupyter-widgets/base",
            "_model_module_version": "1.2.0",
            "_model_name": "LayoutModel",
            "_view_count": null,
            "_view_module": "@jupyter-widgets/base",
            "_view_module_version": "1.2.0",
            "_view_name": "LayoutView",
            "align_content": null,
            "align_items": null,
            "align_self": null,
            "border": null,
            "bottom": null,
            "display": null,
            "flex": null,
            "flex_flow": null,
            "grid_area": null,
            "grid_auto_columns": null,
            "grid_auto_flow": null,
            "grid_auto_rows": null,
            "grid_column": null,
            "grid_gap": null,
            "grid_row": null,
            "grid_template_areas": null,
            "grid_template_columns": null,
            "grid_template_rows": null,
            "height": null,
            "justify_content": null,
            "justify_items": null,
            "left": null,
            "margin": null,
            "max_height": null,
            "max_width": null,
            "min_height": null,
            "min_width": null,
            "object_fit": null,
            "object_position": null,
            "order": null,
            "overflow": null,
            "overflow_x": null,
            "overflow_y": null,
            "padding": null,
            "right": null,
            "top": null,
            "visibility": null,
            "width": null
          }
        },
        "8a5d5eeb63c54925b0920c107c92dbd5": {
          "model_module": "@jupyter-widgets/controls",
          "model_name": "DescriptionStyleModel",
          "model_module_version": "1.5.0",
          "state": {
            "_model_module": "@jupyter-widgets/controls",
            "_model_module_version": "1.5.0",
            "_model_name": "DescriptionStyleModel",
            "_view_count": null,
            "_view_module": "@jupyter-widgets/base",
            "_view_module_version": "1.2.0",
            "_view_name": "StyleView",
            "description_width": ""
          }
        },
        "9545d663557f492b80fa387183d110a5": {
          "model_module": "@jupyter-widgets/base",
          "model_name": "LayoutModel",
          "model_module_version": "1.2.0",
          "state": {
            "_model_module": "@jupyter-widgets/base",
            "_model_module_version": "1.2.0",
            "_model_name": "LayoutModel",
            "_view_count": null,
            "_view_module": "@jupyter-widgets/base",
            "_view_module_version": "1.2.0",
            "_view_name": "LayoutView",
            "align_content": null,
            "align_items": null,
            "align_self": null,
            "border": null,
            "bottom": null,
            "display": null,
            "flex": null,
            "flex_flow": null,
            "grid_area": null,
            "grid_auto_columns": null,
            "grid_auto_flow": null,
            "grid_auto_rows": null,
            "grid_column": null,
            "grid_gap": null,
            "grid_row": null,
            "grid_template_areas": null,
            "grid_template_columns": null,
            "grid_template_rows": null,
            "height": null,
            "justify_content": null,
            "justify_items": null,
            "left": null,
            "margin": null,
            "max_height": null,
            "max_width": null,
            "min_height": null,
            "min_width": null,
            "object_fit": null,
            "object_position": null,
            "order": null,
            "overflow": null,
            "overflow_x": null,
            "overflow_y": null,
            "padding": null,
            "right": null,
            "top": null,
            "visibility": null,
            "width": null
          }
        },
        "23b7d5127eb846919f5fe732385430f0": {
          "model_module": "@jupyter-widgets/controls",
          "model_name": "ProgressStyleModel",
          "model_module_version": "1.5.0",
          "state": {
            "_model_module": "@jupyter-widgets/controls",
            "_model_module_version": "1.5.0",
            "_model_name": "ProgressStyleModel",
            "_view_count": null,
            "_view_module": "@jupyter-widgets/base",
            "_view_module_version": "1.2.0",
            "_view_name": "StyleView",
            "bar_color": null,
            "description_width": ""
          }
        },
        "583f8b1e064849239cf44e91ba665d22": {
          "model_module": "@jupyter-widgets/base",
          "model_name": "LayoutModel",
          "model_module_version": "1.2.0",
          "state": {
            "_model_module": "@jupyter-widgets/base",
            "_model_module_version": "1.2.0",
            "_model_name": "LayoutModel",
            "_view_count": null,
            "_view_module": "@jupyter-widgets/base",
            "_view_module_version": "1.2.0",
            "_view_name": "LayoutView",
            "align_content": null,
            "align_items": null,
            "align_self": null,
            "border": null,
            "bottom": null,
            "display": null,
            "flex": null,
            "flex_flow": null,
            "grid_area": null,
            "grid_auto_columns": null,
            "grid_auto_flow": null,
            "grid_auto_rows": null,
            "grid_column": null,
            "grid_gap": null,
            "grid_row": null,
            "grid_template_areas": null,
            "grid_template_columns": null,
            "grid_template_rows": null,
            "height": null,
            "justify_content": null,
            "justify_items": null,
            "left": null,
            "margin": null,
            "max_height": null,
            "max_width": null,
            "min_height": null,
            "min_width": null,
            "object_fit": null,
            "object_position": null,
            "order": null,
            "overflow": null,
            "overflow_x": null,
            "overflow_y": null,
            "padding": null,
            "right": null,
            "top": null,
            "visibility": null,
            "width": null
          }
        },
        "d34651fdd25d42838eb2b6b2650dde43": {
          "model_module": "@jupyter-widgets/controls",
          "model_name": "DescriptionStyleModel",
          "model_module_version": "1.5.0",
          "state": {
            "_model_module": "@jupyter-widgets/controls",
            "_model_module_version": "1.5.0",
            "_model_name": "DescriptionStyleModel",
            "_view_count": null,
            "_view_module": "@jupyter-widgets/base",
            "_view_module_version": "1.2.0",
            "_view_name": "StyleView",
            "description_width": ""
          }
        }
      }
    }
  },
  "cells": [
    {
      "cell_type": "markdown",
      "metadata": {
        "id": "view-in-github",
        "colab_type": "text"
      },
      "source": [
        "<a href=\"https://colab.research.google.com/github/ZeroGalack/Treinamento-modelo-YOLOv5/blob/main/Treinamento_modelo_YOLOv5.ipynb\" target=\"_parent\"><img src=\"https://colab.research.google.com/assets/colab-badge.svg\" alt=\"Open In Colab\"/></a>"
      ]
    },
    {
      "cell_type": "markdown",
      "source": [
        "## **Treinamento YOLOv5**"
      ],
      "metadata": {
        "id": "pyZZ8Qdbg_ax"
      }
    },
    {
      "cell_type": "markdown",
      "source": [
        "### **Setup**"
      ],
      "metadata": {
        "id": "fLIs9yV6vlvj"
      }
    },
    {
      "cell_type": "code",
      "source": [
        "!git clone https://github.com/ultralytics/yolov5  # clone\n",
        "%cd yolov5\n",
        "%pip install -qr requirements.txt  # install\n",
        "\n",
        "import torch\n",
        "import utils\n",
        "display = utils.notebook_init()  # checks"
      ],
      "metadata": {
        "id": "ZCmDG_hSvlOi"
      },
      "execution_count": null,
      "outputs": []
    },
    {
      "cell_type": "markdown",
      "source": [
        "### **1- Aquisição e preparaçãio das imagens para o dataset** "
      ],
      "metadata": {
        "id": "vDoJAoAchdKf"
      }
    },
    {
      "cell_type": "code",
      "source": [
        "!pip install DuckDuckGoImages"
      ],
      "metadata": {
        "id": "nKV9IpPvhyyf"
      },
      "execution_count": null,
      "outputs": []
    },
    {
      "cell_type": "code",
      "source": [
        "import DuckDuckGoImages as ddg\n",
        "\n",
        "filtro = \"caixa de papelão\" #Nome da imagens\n",
        "destino = \"../imgs\" #Caminho onde as imagens serao salvas\n",
        "\n",
        "\n",
        "print(\"Iniciando downloads...\")\n",
        "try:\n",
        "    ddg.download(filtro, folder=destino, remove_folder=False, parallel=True)\n",
        "except Exception as e:\n",
        "    print(e)\n",
        "\n",
        "\n",
        "print(\"downloads concluidos\")"
      ],
      "metadata": {
        "colab": {
          "base_uri": "https://localhost:8080/",
          "height": 85,
          "referenced_widgets": [
            "9624671b905d4dfe8fa868a49738c06b",
            "ad97bc14c1394c2ba3a16c170de1acbd",
            "ed3ecaee3e8d4ba3a5baf36a1b83a029",
            "179d4b9f06eb45b8bf504203f0698bfa",
            "043ccea3b25d4ab2a682b3a84326c65b",
            "ee49d8d6a05442c3bc9440015663ba00",
            "8a5d5eeb63c54925b0920c107c92dbd5",
            "9545d663557f492b80fa387183d110a5",
            "23b7d5127eb846919f5fe732385430f0",
            "583f8b1e064849239cf44e91ba665d22",
            "d34651fdd25d42838eb2b6b2650dde43"
          ]
        },
        "id": "oIxkmXNLh_gu",
        "outputId": "413e324a-2bc7-406d-b9d4-bceb9f5f07ea"
      },
      "execution_count": 13,
      "outputs": [
        {
          "output_type": "stream",
          "name": "stdout",
          "text": [
            "Iniciando downloads...\n"
          ]
        },
        {
          "output_type": "display_data",
          "data": {
            "text/plain": [
              "  0%|          | 0/302 [00:00<?, ?it/s]"
            ],
            "application/vnd.jupyter.widget-view+json": {
              "version_major": 2,
              "version_minor": 0,
              "model_id": "9624671b905d4dfe8fa868a49738c06b"
            }
          },
          "metadata": {}
        },
        {
          "output_type": "stream",
          "name": "stdout",
          "text": [
            "downloads concluidos\n"
          ]
        }
      ]
    },
    {
      "cell_type": "markdown",
      "source": [
        "### **Renomear as imagens para que fiquem em ordem**"
      ],
      "metadata": {
        "id": "F_QJuzzDkCK2"
      }
    },
    {
      "cell_type": "code",
      "source": [
        "import os\n",
        "\n",
        "pasta_origem = \"../imgs\"\n",
        "extensao_arquivo = \".jpg\"  # Altere para a extensão desejada\n",
        "\n",
        "# Obter lista de arquivos na pasta de origem\n",
        "arquivos = os.listdir(pasta_origem)\n",
        "\n",
        "contador = 0\n",
        "\n",
        "for arquivo in arquivos:\n",
        "    if arquivo.endswith(extensao_arquivo):\n",
        "        # Construir o novo nome do arquivo\n",
        "        novo_nome = str(contador) + extensao_arquivo\n",
        "\n",
        "        # Obter o caminho completo do arquivo original e do novo arquivo\n",
        "        caminho_arquivo_origem = os.path.join(pasta_origem, arquivo)\n",
        "        caminho_arquivo_destino = os.path.join(pasta_origem, novo_nome)\n",
        "\n",
        "        # Renomear o arquivo\n",
        "        os.rename(caminho_arquivo_origem, caminho_arquivo_destino)\n",
        "\n",
        "        contador += 1\n",
        "\n",
        "print(\"Renomeação concluída.\")"
      ],
      "metadata": {
        "id": "OZBGC-3fkHed"
      },
      "execution_count": null,
      "outputs": []
    },
    {
      "cell_type": "markdown",
      "source": [
        "### **2 - Etiquetar de dataset** "
      ],
      "metadata": {
        "id": "D-KvwqSzqnnl"
      }
    },
    {
      "cell_type": "markdown",
      "source": [
        "*   $ git clone https://github.com/tzutalin/labelImg\n",
        "\n",
        "\n",
        "*   $ pip install pyqt=5\n",
        "\n",
        "\n",
        "*   $ pip install lxml\n",
        "\n",
        "\n",
        "\n",
        "*   $ cd labelImg\n",
        "\n",
        "\n",
        "\n",
        "\n",
        "*   $ python labelImg.py"
      ],
      "metadata": {
        "id": "nt1EKt1jrbqS"
      }
    },
    {
      "cell_type": "code",
      "source": [
        "# Etiquete o dataset e guarde usando a seguinte estrutura:\n",
        "# \n",
        "# --train_data\n",
        "#   -- images\n",
        "#       --train\n",
        "#       --val\n",
        "#   -- labels\n",
        "#       --train\n",
        "#       --val\n",
        "#\n",
        "# Separar uma parte para val em images e labels"
      ],
      "metadata": {
        "id": "KRFTWIhhsz0S"
      },
      "execution_count": 10,
      "outputs": []
    },
    {
      "cell_type": "markdown",
      "source": [
        "### **Para descompactar um dataset .zip**"
      ],
      "metadata": {
        "id": "GEf6ChnKtSWK"
      }
    },
    {
      "cell_type": "code",
      "source": [
        "!unzip -q ../train_data.zip -d ../"
      ],
      "metadata": {
        "id": "4Lg-XiEQtoEF"
      },
      "execution_count": 5,
      "outputs": []
    },
    {
      "cell_type": "markdown",
      "source": [
        "### **3 - Treinamento** "
      ],
      "metadata": {
        "id": "JdmvjsQbt0R8"
      }
    },
    {
      "cell_type": "markdown",
      "source": [
        "### **Crie um aruqivo .yaml com as seguintes informações:**"
      ],
      "metadata": {
        "id": "AGviD9aQuIeK"
      }
    },
    {
      "cell_type": "code",
      "source": [
        "#   path: ../train_data  # dataset root dir\n",
        "#   train: ../train_data/images/train/  # train images (relative to 'path') 128 images\n",
        "#   val: ../train_data/images/val/  # val images (relative to 'path') 128 images\n",
        "#   test:  # test images (optional)\n",
        "#   \n",
        "#   # Classes\n",
        "#   nc: 1  # number of classes\n",
        "#   names: ['gun']  # class names\n",
        "#\n",
        "#\n",
        "# Adicione o arquivo .yaml em .../yolov5/data\n",
        "# Tirar comentarios!!!"
      ],
      "metadata": {
        "id": "R-LSvCrrt690"
      },
      "execution_count": 6,
      "outputs": []
    },
    {
      "cell_type": "markdown",
      "source": [
        "### **Executar treinamento:**"
      ],
      "metadata": {
        "id": "aEg5gxsqvH3C"
      }
    },
    {
      "cell_type": "code",
      "source": [
        "!python train.py --img 640 --batch 4 --epochs 50 --data customdata.yaml --weights yolov5s.pt --cache"
      ],
      "metadata": {
        "id": "m45CV-owvKnq"
      },
      "execution_count": null,
      "outputs": []
    },
    {
      "cell_type": "markdown",
      "source": [
        "### **Visualizar resultado:**"
      ],
      "metadata": {
        "id": "WJgNdYa0x1BC"
      }
    },
    {
      "cell_type": "code",
      "source": [
        "!python detect.py --weights /content/yolov5/runs/train/exp/weights/best.pt --img 640 --conf 0.5 --source \"../caixa.jpg\"\n",
        "display.Image(filename='../caixa.jpg', width=600)"
      ],
      "metadata": {
        "id": "YouNNuMayDxx"
      },
      "execution_count": null,
      "outputs": []
    },
    {
      "cell_type": "markdown",
      "source": [
        "## **Referencias:**\n",
        "\n",
        "https://github.com/DavidReveloLuna/YoloV5\n",
        "\n",
        "https://github.com/ultralytics/yolov5"
      ],
      "metadata": {
        "id": "NQ5BrRrM62uR"
      }
    }
  ]
}